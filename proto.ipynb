{
 "cells": [
  {
   "cell_type": "code",
   "execution_count": 1,
   "metadata": {},
   "outputs": [
    {
     "name": "stdout",
     "output_type": "stream",
     "text": [
      "Requirement already satisfied: pytube in c:\\users\\arpit\\appdata\\local\\programs\\python\\python310\\lib\\site-packages (15.0.0)\n",
      "Note: you may need to restart the kernel to use updated packages.\n"
     ]
    },
    {
     "name": "stderr",
     "output_type": "stream",
     "text": [
      "\n",
      "[notice] A new release of pip is available: 24.1.1 -> 24.2\n",
      "[notice] To update, run: python.exe -m pip install --upgrade pip\n"
     ]
    }
   ],
   "source": [
    "%pip install --upgrade pytube"
   ]
  },
  {
   "cell_type": "markdown",
   "metadata": {},
   "source": [
    "## proto"
   ]
  },
  {
   "cell_type": "code",
   "execution_count": 2,
   "metadata": {},
   "outputs": [],
   "source": [
    "from pytube import YouTube as yt"
   ]
  },
  {
   "cell_type": "code",
   "execution_count": 6,
   "metadata": {},
   "outputs": [
    {
     "name": "stdout",
     "output_type": "stream",
     "text": [
      "Glock In My Lap\n"
     ]
    }
   ],
   "source": [
    "# request.default_cache.clear()\n",
    "\n",
    "yto = yt('https://www.youtube.com/watch?v=acYUqMd9k2I')\n",
    "video_title = yto.title\n",
    "print(video_title)"
   ]
  },
  {
   "cell_type": "code",
   "execution_count": 7,
   "metadata": {},
   "outputs": [
    {
     "ename": "RegexMatchError",
     "evalue": "get_throttling_function_name: could not find match for multiple",
     "output_type": "error",
     "traceback": [
      "\u001b[1;31m---------------------------------------------------------------------------\u001b[0m",
      "\u001b[1;31mRegexMatchError\u001b[0m                           Traceback (most recent call last)",
      "File \u001b[1;32mc:\\Users\\arpit\\AppData\\Local\\Programs\\Python\\Python310\\lib\\site-packages\\pytube\\__main__.py:181\u001b[0m, in \u001b[0;36mYouTube.fmt_streams\u001b[1;34m(self)\u001b[0m\n\u001b[0;32m    180\u001b[0m \u001b[38;5;28;01mtry\u001b[39;00m:\n\u001b[1;32m--> 181\u001b[0m     \u001b[43mextract\u001b[49m\u001b[38;5;241;43m.\u001b[39;49m\u001b[43mapply_signature\u001b[49m\u001b[43m(\u001b[49m\u001b[43mstream_manifest\u001b[49m\u001b[43m,\u001b[49m\u001b[43m \u001b[49m\u001b[38;5;28;43mself\u001b[39;49m\u001b[38;5;241;43m.\u001b[39;49m\u001b[43mvid_info\u001b[49m\u001b[43m,\u001b[49m\u001b[43m \u001b[49m\u001b[38;5;28;43mself\u001b[39;49m\u001b[38;5;241;43m.\u001b[39;49m\u001b[43mjs\u001b[49m\u001b[43m)\u001b[49m\n\u001b[0;32m    182\u001b[0m \u001b[38;5;28;01mexcept\u001b[39;00m exceptions\u001b[38;5;241m.\u001b[39mExtractError:\n\u001b[0;32m    183\u001b[0m     \u001b[38;5;66;03m# To force an update to the js file, we clear the cache and retry\u001b[39;00m\n",
      "File \u001b[1;32mc:\\Users\\arpit\\AppData\\Local\\Programs\\Python\\Python310\\lib\\site-packages\\pytube\\extract.py:409\u001b[0m, in \u001b[0;36mapply_signature\u001b[1;34m(stream_manifest, vid_info, js)\u001b[0m\n\u001b[0;32m    401\u001b[0m \u001b[38;5;250m\u001b[39m\u001b[38;5;124;03m\"\"\"Apply the decrypted signature to the stream manifest.\u001b[39;00m\n\u001b[0;32m    402\u001b[0m \n\u001b[0;32m    403\u001b[0m \u001b[38;5;124;03m:param dict stream_manifest:\u001b[39;00m\n\u001b[1;32m   (...)\u001b[0m\n\u001b[0;32m    407\u001b[0m \n\u001b[0;32m    408\u001b[0m \u001b[38;5;124;03m\"\"\"\u001b[39;00m\n\u001b[1;32m--> 409\u001b[0m cipher \u001b[38;5;241m=\u001b[39m \u001b[43mCipher\u001b[49m\u001b[43m(\u001b[49m\u001b[43mjs\u001b[49m\u001b[38;5;241;43m=\u001b[39;49m\u001b[43mjs\u001b[49m\u001b[43m)\u001b[49m\n\u001b[0;32m    411\u001b[0m \u001b[38;5;28;01mfor\u001b[39;00m i, stream \u001b[38;5;129;01min\u001b[39;00m \u001b[38;5;28menumerate\u001b[39m(stream_manifest):\n",
      "File \u001b[1;32mc:\\Users\\arpit\\AppData\\Local\\Programs\\Python\\Python310\\lib\\site-packages\\pytube\\cipher.py:43\u001b[0m, in \u001b[0;36mCipher.__init__\u001b[1;34m(self, js)\u001b[0m\n\u001b[0;32m     38\u001b[0m \u001b[38;5;28mself\u001b[39m\u001b[38;5;241m.\u001b[39mjs_func_patterns \u001b[38;5;241m=\u001b[39m [\n\u001b[0;32m     39\u001b[0m     \u001b[38;5;124mr\u001b[39m\u001b[38;5;124m\"\u001b[39m\u001b[38;5;124m\\\u001b[39m\u001b[38;5;124mw+\u001b[39m\u001b[38;5;124m\\\u001b[39m\u001b[38;5;124m.(\u001b[39m\u001b[38;5;124m\\\u001b[39m\u001b[38;5;124mw+)\u001b[39m\u001b[38;5;124m\\\u001b[39m\u001b[38;5;124m(\u001b[39m\u001b[38;5;124m\\\u001b[39m\u001b[38;5;124mw,(\u001b[39m\u001b[38;5;124m\\\u001b[39m\u001b[38;5;124md+)\u001b[39m\u001b[38;5;124m\\\u001b[39m\u001b[38;5;124m)\u001b[39m\u001b[38;5;124m\"\u001b[39m,\n\u001b[0;32m     40\u001b[0m     \u001b[38;5;124mr\u001b[39m\u001b[38;5;124m\"\u001b[39m\u001b[38;5;124m\\\u001b[39m\u001b[38;5;124mw+\u001b[39m\u001b[38;5;124m\\\u001b[39m\u001b[38;5;124m[(\u001b[39m\u001b[38;5;130;01m\\\"\u001b[39;00m\u001b[38;5;124m\\\u001b[39m\u001b[38;5;124mw+\u001b[39m\u001b[38;5;130;01m\\\"\u001b[39;00m\u001b[38;5;124m)\u001b[39m\u001b[38;5;124m\\\u001b[39m\u001b[38;5;124m]\u001b[39m\u001b[38;5;124m\\\u001b[39m\u001b[38;5;124m(\u001b[39m\u001b[38;5;124m\\\u001b[39m\u001b[38;5;124mw,(\u001b[39m\u001b[38;5;124m\\\u001b[39m\u001b[38;5;124md+)\u001b[39m\u001b[38;5;124m\\\u001b[39m\u001b[38;5;124m)\u001b[39m\u001b[38;5;124m\"\u001b[39m\n\u001b[0;32m     41\u001b[0m ]\n\u001b[1;32m---> 43\u001b[0m \u001b[38;5;28mself\u001b[39m\u001b[38;5;241m.\u001b[39mthrottling_plan \u001b[38;5;241m=\u001b[39m \u001b[43mget_throttling_plan\u001b[49m\u001b[43m(\u001b[49m\u001b[43mjs\u001b[49m\u001b[43m)\u001b[49m\n\u001b[0;32m     44\u001b[0m \u001b[38;5;28mself\u001b[39m\u001b[38;5;241m.\u001b[39mthrottling_array \u001b[38;5;241m=\u001b[39m get_throttling_function_array(js)\n",
      "File \u001b[1;32mc:\\Users\\arpit\\AppData\\Local\\Programs\\Python\\Python310\\lib\\site-packages\\pytube\\cipher.py:405\u001b[0m, in \u001b[0;36mget_throttling_plan\u001b[1;34m(js)\u001b[0m\n\u001b[0;32m    393\u001b[0m \u001b[38;5;250m\u001b[39m\u001b[38;5;124;03m\"\"\"Extract the \"throttling plan\".\u001b[39;00m\n\u001b[0;32m    394\u001b[0m \n\u001b[0;32m    395\u001b[0m \u001b[38;5;124;03mThe \"throttling plan\" is a list of tuples used for calling functions\u001b[39;00m\n\u001b[1;32m   (...)\u001b[0m\n\u001b[0;32m    403\u001b[0m \u001b[38;5;124;03m    The full function code for computing the throttlign parameter.\u001b[39;00m\n\u001b[0;32m    404\u001b[0m \u001b[38;5;124;03m\"\"\"\u001b[39;00m\n\u001b[1;32m--> 405\u001b[0m raw_code \u001b[38;5;241m=\u001b[39m \u001b[43mget_throttling_function_code\u001b[49m\u001b[43m(\u001b[49m\u001b[43mjs\u001b[49m\u001b[43m)\u001b[49m\n\u001b[0;32m    407\u001b[0m transform_start \u001b[38;5;241m=\u001b[39m \u001b[38;5;124mr\u001b[39m\u001b[38;5;124m\"\u001b[39m\u001b[38;5;124mtry\u001b[39m\u001b[38;5;124m{\u001b[39m\u001b[38;5;124m\"\u001b[39m\n",
      "File \u001b[1;32mc:\\Users\\arpit\\AppData\\Local\\Programs\\Python\\Python310\\lib\\site-packages\\pytube\\cipher.py:311\u001b[0m, in \u001b[0;36mget_throttling_function_code\u001b[1;34m(js)\u001b[0m\n\u001b[0;32m    310\u001b[0m \u001b[38;5;66;03m# Begin by extracting the correct function name\u001b[39;00m\n\u001b[1;32m--> 311\u001b[0m name \u001b[38;5;241m=\u001b[39m re\u001b[38;5;241m.\u001b[39mescape(\u001b[43mget_throttling_function_name\u001b[49m\u001b[43m(\u001b[49m\u001b[43mjs\u001b[49m\u001b[43m)\u001b[49m)\n\u001b[0;32m    313\u001b[0m \u001b[38;5;66;03m# Identify where the function is defined\u001b[39;00m\n",
      "File \u001b[1;32mc:\\Users\\arpit\\AppData\\Local\\Programs\\Python\\Python310\\lib\\site-packages\\pytube\\cipher.py:296\u001b[0m, in \u001b[0;36mget_throttling_function_name\u001b[1;34m(js)\u001b[0m\n\u001b[0;32m    294\u001b[0m                 \u001b[38;5;28;01mreturn\u001b[39;00m array[\u001b[38;5;28mint\u001b[39m(idx)]\n\u001b[1;32m--> 296\u001b[0m \u001b[38;5;28;01mraise\u001b[39;00m RegexMatchError(\n\u001b[0;32m    297\u001b[0m     caller\u001b[38;5;241m=\u001b[39m\u001b[38;5;124m\"\u001b[39m\u001b[38;5;124mget_throttling_function_name\u001b[39m\u001b[38;5;124m\"\u001b[39m, pattern\u001b[38;5;241m=\u001b[39m\u001b[38;5;124m\"\u001b[39m\u001b[38;5;124mmultiple\u001b[39m\u001b[38;5;124m\"\u001b[39m\n\u001b[0;32m    298\u001b[0m )\n",
      "\u001b[1;31mRegexMatchError\u001b[0m: get_throttling_function_name: could not find match for multiple",
      "\nDuring handling of the above exception, another exception occurred:\n",
      "\u001b[1;31mRegexMatchError\u001b[0m                           Traceback (most recent call last)",
      "Cell \u001b[1;32mIn[7], line 10\u001b[0m\n\u001b[0;32m      7\u001b[0m yt \u001b[38;5;241m=\u001b[39m YouTube(video_url)\n\u001b[0;32m      9\u001b[0m \u001b[38;5;66;03m# Download the video in the highest resolution\u001b[39;00m\n\u001b[1;32m---> 10\u001b[0m stream \u001b[38;5;241m=\u001b[39m \u001b[43myt\u001b[49m\u001b[38;5;241;43m.\u001b[39;49m\u001b[43mstreams\u001b[49m\u001b[38;5;241m.\u001b[39mget_highest_resolution()\n\u001b[0;32m     12\u001b[0m \u001b[38;5;66;03m# Download the video to the current directory\u001b[39;00m\n\u001b[0;32m     13\u001b[0m stream\u001b[38;5;241m.\u001b[39mdownload()\n",
      "File \u001b[1;32mc:\\Users\\arpit\\AppData\\Local\\Programs\\Python\\Python310\\lib\\site-packages\\pytube\\__main__.py:296\u001b[0m, in \u001b[0;36mYouTube.streams\u001b[1;34m(self)\u001b[0m\n\u001b[0;32m    291\u001b[0m \u001b[38;5;250m\u001b[39m\u001b[38;5;124;03m\"\"\"Interface to query both adaptive (DASH) and progressive streams.\u001b[39;00m\n\u001b[0;32m    292\u001b[0m \n\u001b[0;32m    293\u001b[0m \u001b[38;5;124;03m:rtype: :class:`StreamQuery <StreamQuery>`.\u001b[39;00m\n\u001b[0;32m    294\u001b[0m \u001b[38;5;124;03m\"\"\"\u001b[39;00m\n\u001b[0;32m    295\u001b[0m \u001b[38;5;28mself\u001b[39m\u001b[38;5;241m.\u001b[39mcheck_availability()\n\u001b[1;32m--> 296\u001b[0m \u001b[38;5;28;01mreturn\u001b[39;00m StreamQuery(\u001b[38;5;28;43mself\u001b[39;49m\u001b[38;5;241;43m.\u001b[39;49m\u001b[43mfmt_streams\u001b[49m)\n",
      "File \u001b[1;32mc:\\Users\\arpit\\AppData\\Local\\Programs\\Python\\Python310\\lib\\site-packages\\pytube\\__main__.py:188\u001b[0m, in \u001b[0;36mYouTube.fmt_streams\u001b[1;34m(self)\u001b[0m\n\u001b[0;32m    186\u001b[0m     pytube\u001b[38;5;241m.\u001b[39m__js__ \u001b[38;5;241m=\u001b[39m \u001b[38;5;28;01mNone\u001b[39;00m\n\u001b[0;32m    187\u001b[0m     pytube\u001b[38;5;241m.\u001b[39m__js_url__ \u001b[38;5;241m=\u001b[39m \u001b[38;5;28;01mNone\u001b[39;00m\n\u001b[1;32m--> 188\u001b[0m     \u001b[43mextract\u001b[49m\u001b[38;5;241;43m.\u001b[39;49m\u001b[43mapply_signature\u001b[49m\u001b[43m(\u001b[49m\u001b[43mstream_manifest\u001b[49m\u001b[43m,\u001b[49m\u001b[43m \u001b[49m\u001b[38;5;28;43mself\u001b[39;49m\u001b[38;5;241;43m.\u001b[39;49m\u001b[43mvid_info\u001b[49m\u001b[43m,\u001b[49m\u001b[43m \u001b[49m\u001b[38;5;28;43mself\u001b[39;49m\u001b[38;5;241;43m.\u001b[39;49m\u001b[43mjs\u001b[49m\u001b[43m)\u001b[49m\n\u001b[0;32m    190\u001b[0m \u001b[38;5;66;03m# build instances of :class:`Stream <Stream>`\u001b[39;00m\n\u001b[0;32m    191\u001b[0m \u001b[38;5;66;03m# Initialize stream objects\u001b[39;00m\n\u001b[0;32m    192\u001b[0m \u001b[38;5;28;01mfor\u001b[39;00m stream \u001b[38;5;129;01min\u001b[39;00m stream_manifest:\n",
      "File \u001b[1;32mc:\\Users\\arpit\\AppData\\Local\\Programs\\Python\\Python310\\lib\\site-packages\\pytube\\extract.py:409\u001b[0m, in \u001b[0;36mapply_signature\u001b[1;34m(stream_manifest, vid_info, js)\u001b[0m\n\u001b[0;32m    400\u001b[0m \u001b[38;5;28;01mdef\u001b[39;00m \u001b[38;5;21mapply_signature\u001b[39m(stream_manifest: Dict, vid_info: Dict, js: \u001b[38;5;28mstr\u001b[39m) \u001b[38;5;241m-\u001b[39m\u001b[38;5;241m>\u001b[39m \u001b[38;5;28;01mNone\u001b[39;00m:\n\u001b[0;32m    401\u001b[0m \u001b[38;5;250m    \u001b[39m\u001b[38;5;124;03m\"\"\"Apply the decrypted signature to the stream manifest.\u001b[39;00m\n\u001b[0;32m    402\u001b[0m \n\u001b[0;32m    403\u001b[0m \u001b[38;5;124;03m    :param dict stream_manifest:\u001b[39;00m\n\u001b[1;32m   (...)\u001b[0m\n\u001b[0;32m    407\u001b[0m \n\u001b[0;32m    408\u001b[0m \u001b[38;5;124;03m    \"\"\"\u001b[39;00m\n\u001b[1;32m--> 409\u001b[0m     cipher \u001b[38;5;241m=\u001b[39m \u001b[43mCipher\u001b[49m\u001b[43m(\u001b[49m\u001b[43mjs\u001b[49m\u001b[38;5;241;43m=\u001b[39;49m\u001b[43mjs\u001b[49m\u001b[43m)\u001b[49m\n\u001b[0;32m    411\u001b[0m     \u001b[38;5;28;01mfor\u001b[39;00m i, stream \u001b[38;5;129;01min\u001b[39;00m \u001b[38;5;28menumerate\u001b[39m(stream_manifest):\n\u001b[0;32m    412\u001b[0m         \u001b[38;5;28;01mtry\u001b[39;00m:\n",
      "File \u001b[1;32mc:\\Users\\arpit\\AppData\\Local\\Programs\\Python\\Python310\\lib\\site-packages\\pytube\\cipher.py:43\u001b[0m, in \u001b[0;36mCipher.__init__\u001b[1;34m(self, js)\u001b[0m\n\u001b[0;32m     37\u001b[0m \u001b[38;5;28mself\u001b[39m\u001b[38;5;241m.\u001b[39mtransform_map \u001b[38;5;241m=\u001b[39m get_transform_map(js, var)\n\u001b[0;32m     38\u001b[0m \u001b[38;5;28mself\u001b[39m\u001b[38;5;241m.\u001b[39mjs_func_patterns \u001b[38;5;241m=\u001b[39m [\n\u001b[0;32m     39\u001b[0m     \u001b[38;5;124mr\u001b[39m\u001b[38;5;124m\"\u001b[39m\u001b[38;5;124m\\\u001b[39m\u001b[38;5;124mw+\u001b[39m\u001b[38;5;124m\\\u001b[39m\u001b[38;5;124m.(\u001b[39m\u001b[38;5;124m\\\u001b[39m\u001b[38;5;124mw+)\u001b[39m\u001b[38;5;124m\\\u001b[39m\u001b[38;5;124m(\u001b[39m\u001b[38;5;124m\\\u001b[39m\u001b[38;5;124mw,(\u001b[39m\u001b[38;5;124m\\\u001b[39m\u001b[38;5;124md+)\u001b[39m\u001b[38;5;124m\\\u001b[39m\u001b[38;5;124m)\u001b[39m\u001b[38;5;124m\"\u001b[39m,\n\u001b[0;32m     40\u001b[0m     \u001b[38;5;124mr\u001b[39m\u001b[38;5;124m\"\u001b[39m\u001b[38;5;124m\\\u001b[39m\u001b[38;5;124mw+\u001b[39m\u001b[38;5;124m\\\u001b[39m\u001b[38;5;124m[(\u001b[39m\u001b[38;5;130;01m\\\"\u001b[39;00m\u001b[38;5;124m\\\u001b[39m\u001b[38;5;124mw+\u001b[39m\u001b[38;5;130;01m\\\"\u001b[39;00m\u001b[38;5;124m)\u001b[39m\u001b[38;5;124m\\\u001b[39m\u001b[38;5;124m]\u001b[39m\u001b[38;5;124m\\\u001b[39m\u001b[38;5;124m(\u001b[39m\u001b[38;5;124m\\\u001b[39m\u001b[38;5;124mw,(\u001b[39m\u001b[38;5;124m\\\u001b[39m\u001b[38;5;124md+)\u001b[39m\u001b[38;5;124m\\\u001b[39m\u001b[38;5;124m)\u001b[39m\u001b[38;5;124m\"\u001b[39m\n\u001b[0;32m     41\u001b[0m ]\n\u001b[1;32m---> 43\u001b[0m \u001b[38;5;28mself\u001b[39m\u001b[38;5;241m.\u001b[39mthrottling_plan \u001b[38;5;241m=\u001b[39m \u001b[43mget_throttling_plan\u001b[49m\u001b[43m(\u001b[49m\u001b[43mjs\u001b[49m\u001b[43m)\u001b[49m\n\u001b[0;32m     44\u001b[0m \u001b[38;5;28mself\u001b[39m\u001b[38;5;241m.\u001b[39mthrottling_array \u001b[38;5;241m=\u001b[39m get_throttling_function_array(js)\n\u001b[0;32m     46\u001b[0m \u001b[38;5;28mself\u001b[39m\u001b[38;5;241m.\u001b[39mcalculated_n \u001b[38;5;241m=\u001b[39m \u001b[38;5;28;01mNone\u001b[39;00m\n",
      "File \u001b[1;32mc:\\Users\\arpit\\AppData\\Local\\Programs\\Python\\Python310\\lib\\site-packages\\pytube\\cipher.py:405\u001b[0m, in \u001b[0;36mget_throttling_plan\u001b[1;34m(js)\u001b[0m\n\u001b[0;32m    392\u001b[0m \u001b[38;5;28;01mdef\u001b[39;00m \u001b[38;5;21mget_throttling_plan\u001b[39m(js: \u001b[38;5;28mstr\u001b[39m):\n\u001b[0;32m    393\u001b[0m \u001b[38;5;250m    \u001b[39m\u001b[38;5;124;03m\"\"\"Extract the \"throttling plan\".\u001b[39;00m\n\u001b[0;32m    394\u001b[0m \n\u001b[0;32m    395\u001b[0m \u001b[38;5;124;03m    The \"throttling plan\" is a list of tuples used for calling functions\u001b[39;00m\n\u001b[1;32m   (...)\u001b[0m\n\u001b[0;32m    403\u001b[0m \u001b[38;5;124;03m        The full function code for computing the throttlign parameter.\u001b[39;00m\n\u001b[0;32m    404\u001b[0m \u001b[38;5;124;03m    \"\"\"\u001b[39;00m\n\u001b[1;32m--> 405\u001b[0m     raw_code \u001b[38;5;241m=\u001b[39m \u001b[43mget_throttling_function_code\u001b[49m\u001b[43m(\u001b[49m\u001b[43mjs\u001b[49m\u001b[43m)\u001b[49m\n\u001b[0;32m    407\u001b[0m     transform_start \u001b[38;5;241m=\u001b[39m \u001b[38;5;124mr\u001b[39m\u001b[38;5;124m\"\u001b[39m\u001b[38;5;124mtry\u001b[39m\u001b[38;5;124m{\u001b[39m\u001b[38;5;124m\"\u001b[39m\n\u001b[0;32m    408\u001b[0m     plan_regex \u001b[38;5;241m=\u001b[39m re\u001b[38;5;241m.\u001b[39mcompile(transform_start)\n",
      "File \u001b[1;32mc:\\Users\\arpit\\AppData\\Local\\Programs\\Python\\Python310\\lib\\site-packages\\pytube\\cipher.py:311\u001b[0m, in \u001b[0;36mget_throttling_function_code\u001b[1;34m(js)\u001b[0m\n\u001b[0;32m    302\u001b[0m \u001b[38;5;250m\u001b[39m\u001b[38;5;124;03m\"\"\"Extract the raw code for the throttling function.\u001b[39;00m\n\u001b[0;32m    303\u001b[0m \n\u001b[0;32m    304\u001b[0m \u001b[38;5;124;03m:param str js:\u001b[39;00m\n\u001b[1;32m   (...)\u001b[0m\n\u001b[0;32m    308\u001b[0m \u001b[38;5;124;03m    The name of the function used to compute the throttling parameter.\u001b[39;00m\n\u001b[0;32m    309\u001b[0m \u001b[38;5;124;03m\"\"\"\u001b[39;00m\n\u001b[0;32m    310\u001b[0m \u001b[38;5;66;03m# Begin by extracting the correct function name\u001b[39;00m\n\u001b[1;32m--> 311\u001b[0m name \u001b[38;5;241m=\u001b[39m re\u001b[38;5;241m.\u001b[39mescape(\u001b[43mget_throttling_function_name\u001b[49m\u001b[43m(\u001b[49m\u001b[43mjs\u001b[49m\u001b[43m)\u001b[49m)\n\u001b[0;32m    313\u001b[0m \u001b[38;5;66;03m# Identify where the function is defined\u001b[39;00m\n\u001b[0;32m    314\u001b[0m pattern_start \u001b[38;5;241m=\u001b[39m \u001b[38;5;124mr\u001b[39m\u001b[38;5;124m\"\u001b[39m\u001b[38;5;132;01m%s\u001b[39;00m\u001b[38;5;124m=function\u001b[39m\u001b[38;5;124m\\\u001b[39m\u001b[38;5;124m(\u001b[39m\u001b[38;5;124m\\\u001b[39m\u001b[38;5;124mw\u001b[39m\u001b[38;5;124m\\\u001b[39m\u001b[38;5;124m)\u001b[39m\u001b[38;5;124m\"\u001b[39m \u001b[38;5;241m%\u001b[39m name\n",
      "File \u001b[1;32mc:\\Users\\arpit\\AppData\\Local\\Programs\\Python\\Python310\\lib\\site-packages\\pytube\\cipher.py:296\u001b[0m, in \u001b[0;36mget_throttling_function_name\u001b[1;34m(js)\u001b[0m\n\u001b[0;32m    293\u001b[0m                 array \u001b[38;5;241m=\u001b[39m [x\u001b[38;5;241m.\u001b[39mstrip() \u001b[38;5;28;01mfor\u001b[39;00m x \u001b[38;5;129;01min\u001b[39;00m array]\n\u001b[0;32m    294\u001b[0m                 \u001b[38;5;28;01mreturn\u001b[39;00m array[\u001b[38;5;28mint\u001b[39m(idx)]\n\u001b[1;32m--> 296\u001b[0m \u001b[38;5;28;01mraise\u001b[39;00m RegexMatchError(\n\u001b[0;32m    297\u001b[0m     caller\u001b[38;5;241m=\u001b[39m\u001b[38;5;124m\"\u001b[39m\u001b[38;5;124mget_throttling_function_name\u001b[39m\u001b[38;5;124m\"\u001b[39m, pattern\u001b[38;5;241m=\u001b[39m\u001b[38;5;124m\"\u001b[39m\u001b[38;5;124mmultiple\u001b[39m\u001b[38;5;124m\"\u001b[39m\n\u001b[0;32m    298\u001b[0m )\n",
      "\u001b[1;31mRegexMatchError\u001b[0m: get_throttling_function_name: could not find match for multiple"
     ]
    }
   ],
   "source": [
    "from pytube import YouTube\n",
    "\n",
    "# Provide the URL of the YouTube video\n",
    "video_url = 'https://www.youtube.com/watch?v=acYUqMd9k2I'\n",
    "\n",
    "# Create a YouTube object\n",
    "yt = YouTube(video_url)\n",
    "\n",
    "# Download the video in the highest resolution\n",
    "stream = yt.streams.get_highest_resolution()\n",
    "\n",
    "# Download the video to the current directory\n",
    "stream.download()\n",
    "\n",
    "print(f'Video \"{yt.title}\" downloaded successfully!')\n"
   ]
  },
  {
   "cell_type": "code",
   "execution_count": 10,
   "metadata": {},
   "outputs": [
    {
     "name": "stdout",
     "output_type": "stream",
     "text": [
      "Requirement already satisfied: yt-dlp in c:\\users\\arpit\\appdata\\local\\programs\\python\\python310\\lib\\site-packages (2024.8.6)\n",
      "Requirement already satisfied: brotli in c:\\users\\arpit\\appdata\\local\\programs\\python\\python310\\lib\\site-packages (from yt-dlp) (1.1.0)\n",
      "Requirement already satisfied: certifi in c:\\users\\arpit\\appdata\\local\\programs\\python\\python310\\lib\\site-packages (from yt-dlp) (2023.7.22)\n",
      "Requirement already satisfied: mutagen in c:\\users\\arpit\\appdata\\local\\programs\\python\\python310\\lib\\site-packages (from yt-dlp) (1.47.0)\n",
      "Requirement already satisfied: pycryptodomex in c:\\users\\arpit\\appdata\\local\\programs\\python\\python310\\lib\\site-packages (from yt-dlp) (3.20.0)\n",
      "Requirement already satisfied: requests<3,>=2.32.2 in c:\\users\\arpit\\appdata\\local\\programs\\python\\python310\\lib\\site-packages (from yt-dlp) (2.32.3)\n",
      "Requirement already satisfied: urllib3<3,>=1.26.17 in c:\\users\\arpit\\appdata\\local\\programs\\python\\python310\\lib\\site-packages (from yt-dlp) (2.1.0)\n",
      "Requirement already satisfied: websockets>=12.0 in c:\\users\\arpit\\appdata\\local\\programs\\python\\python310\\lib\\site-packages (from yt-dlp) (13.0.1)\n",
      "Requirement already satisfied: charset-normalizer<4,>=2 in c:\\users\\arpit\\appdata\\local\\programs\\python\\python310\\lib\\site-packages (from requests<3,>=2.32.2->yt-dlp) (3.3.2)\n",
      "Requirement already satisfied: idna<4,>=2.5 in c:\\users\\arpit\\appdata\\local\\programs\\python\\python310\\lib\\site-packages (from requests<3,>=2.32.2->yt-dlp) (2.10)\n",
      "Note: you may need to restart the kernel to use updated packages.\n"
     ]
    },
    {
     "name": "stderr",
     "output_type": "stream",
     "text": [
      "\n",
      "[notice] A new release of pip is available: 24.1.1 -> 24.2\n",
      "[notice] To update, run: python.exe -m pip install --upgrade pip\n"
     ]
    }
   ],
   "source": [
    "%pip install yt-dlp"
   ]
  },
  {
   "cell_type": "code",
   "execution_count": 43,
   "metadata": {},
   "outputs": [
    {
     "name": "stdout",
     "output_type": "stream",
     "text": [
      "[youtube] Extracting URL: https://www.youtube.com/watch?v=acYUqMd9k2I\n",
      "[youtube] acYUqMd9k2I: Downloading webpage\n",
      "[youtube] acYUqMd9k2I: Downloading ios player API JSON\n",
      "[youtube] acYUqMd9k2I: Downloading web creator player API JSON\n",
      "[youtube] acYUqMd9k2I: Downloading m3u8 information\n",
      "[info] acYUqMd9k2I: Downloading 1 format(s): 313+251\n",
      "[download] Destination: C:\\Projects\\Machine-Learning-UCT513\\Mashup_package\\video.f313.webm\n",
      "[download] 100% of  285.15MiB in 00:00:48 at 5.92MiB/s     \n",
      "[download] Destination: C:\\Projects\\Machine-Learning-UCT513\\Mashup_package\\video.f251.webm\n",
      "[download] 100% of    3.41MiB in 00:00:00 at 7.07MiB/s   \n",
      "[Merger] Merging formats into \"C:\\Projects\\Machine-Learning-UCT513\\Mashup_package\\video.webm\"\n",
      "Deleting original file C:\\Projects\\Machine-Learning-UCT513\\Mashup_package\\video.f251.webm (pass -k to keep)\n",
      "Deleting original file C:\\Projects\\Machine-Learning-UCT513\\Mashup_package\\video.f313.webm (pass -k to keep)\n"
     ]
    }
   ],
   "source": [
    "import yt_dlp\n",
    "\n",
    "video_url = 'https://www.youtube.com/watch?v=acYUqMd9k2I'\n",
    "path_to_vid = 'C:\\Projects\\Machine-Learning-UCT513\\Mashup_package/video.webm'\n",
    "# Create download options\n",
    "ydl_opts = {'outtmpl': path_to_vid}\n",
    "\n",
    "# Download the video\n",
    "with yt_dlp.YoutubeDL(ydl_opts) as ydl:\n",
    "    ydl.download([video_url])\n"
   ]
  },
  {
   "cell_type": "code",
   "execution_count": 15,
   "metadata": {},
   "outputs": [
    {
     "name": "stdout",
     "output_type": "stream",
     "text": [
      "Collecting youtube-search-python\n",
      "  Downloading youtube_search_python-1.6.6-py3-none-any.whl.metadata (99 kB)\n",
      "     ---------------------------------------- 0.0/99.5 kB ? eta -:--:--\n",
      "     ---------------------------------------- 99.5/99.5 kB 2.9 MB/s eta 0:00:00\n",
      "Requirement already satisfied: httpx>=0.14.2 in c:\\users\\arpit\\appdata\\local\\programs\\python\\python310\\lib\\site-packages (from youtube-search-python) (0.27.0)\n",
      "Requirement already satisfied: anyio in c:\\users\\arpit\\appdata\\local\\programs\\python\\python310\\lib\\site-packages (from httpx>=0.14.2->youtube-search-python) (4.4.0)\n",
      "Requirement already satisfied: certifi in c:\\users\\arpit\\appdata\\local\\programs\\python\\python310\\lib\\site-packages (from httpx>=0.14.2->youtube-search-python) (2023.7.22)\n",
      "Requirement already satisfied: httpcore==1.* in c:\\users\\arpit\\appdata\\local\\programs\\python\\python310\\lib\\site-packages (from httpx>=0.14.2->youtube-search-python) (1.0.5)\n",
      "Requirement already satisfied: idna in c:\\users\\arpit\\appdata\\local\\programs\\python\\python310\\lib\\site-packages (from httpx>=0.14.2->youtube-search-python) (2.10)\n",
      "Requirement already satisfied: sniffio in c:\\users\\arpit\\appdata\\local\\programs\\python\\python310\\lib\\site-packages (from httpx>=0.14.2->youtube-search-python) (1.3.1)\n",
      "Requirement already satisfied: h11<0.15,>=0.13 in c:\\users\\arpit\\appdata\\local\\programs\\python\\python310\\lib\\site-packages (from httpcore==1.*->httpx>=0.14.2->youtube-search-python) (0.14.0)\n",
      "Requirement already satisfied: exceptiongroup>=1.0.2 in c:\\users\\arpit\\appdata\\roaming\\python\\python310\\site-packages (from anyio->httpx>=0.14.2->youtube-search-python) (1.2.1)\n",
      "Requirement already satisfied: typing-extensions>=4.1 in c:\\users\\arpit\\appdata\\local\\programs\\python\\python310\\lib\\site-packages (from anyio->httpx>=0.14.2->youtube-search-python) (4.9.0)\n",
      "Downloading youtube_search_python-1.6.6-py3-none-any.whl (89 kB)\n",
      "   ---------------------------------------- 0.0/89.1 kB ? eta -:--:--\n",
      "   ---------------------------------------- 89.1/89.1 kB 5.3 MB/s eta 0:00:00\n",
      "Installing collected packages: youtube-search-python\n",
      "Successfully installed youtube-search-python-1.6.6\n",
      "Note: you may need to restart the kernel to use updated packages.\n"
     ]
    },
    {
     "name": "stderr",
     "output_type": "stream",
     "text": [
      "\n",
      "[notice] A new release of pip is available: 24.1.1 -> 24.2\n",
      "[notice] To update, run: python.exe -m pip install --upgrade pip\n"
     ]
    }
   ],
   "source": [
    "%pip install youtube-search-python"
   ]
  },
  {
   "cell_type": "code",
   "execution_count": 17,
   "metadata": {},
   "outputs": [],
   "source": [
    "from youtubesearchpython import Search\n",
    "\n",
    "allsearch = Search(\"sherry maan\", limit =5)\n",
    "result = allsearch.result()"
   ]
  },
  {
   "cell_type": "code",
   "execution_count": 31,
   "metadata": {},
   "outputs": [
    {
     "name": "stdout",
     "output_type": "stream",
     "text": [
      "https://www.youtube.com/watch?v=LIG3Yl5pZ1Y\n",
      "https://www.youtube.com/watch?v=Kd57YHWqrsI\n",
      "https://www.youtube.com/watch?v=iiQmg8Sldu8\n",
      "https://www.youtube.com/watch?v=PDlw1Tn-PVk\n",
      "https://www.youtube.com/watch?v=1ksdcHn8qgc\n"
     ]
    }
   ],
   "source": [
    "for i in range(5):\n",
    "    print(result['result'][i]['link'])"
   ]
  },
  {
   "cell_type": "code",
   "execution_count": 35,
   "metadata": {},
   "outputs": [
    {
     "name": "stdout",
     "output_type": "stream",
     "text": [
      "2024-09-09 03:59:05.357856\n"
     ]
    }
   ],
   "source": [
    "from datetime import datetime\n",
    "print(datetime.now())"
   ]
  },
  {
   "cell_type": "code",
   "execution_count": 44,
   "metadata": {},
   "outputs": [
    {
     "data": {
      "text/plain": [
       "CompletedProcess(args=['ffmpeg', '-i', 'C:\\\\Projects\\\\Machine-Learning-UCT513\\\\Mashup_package/video.webm', 'C:\\\\Projects\\\\Machine-Learning-UCT513\\\\Mashup_package/21 Savage & Metro Boomin - Glock In My Lap (Official Music Video).mp3'], returncode=0)"
      ]
     },
     "execution_count": 44,
     "metadata": {},
     "output_type": "execute_result"
    }
   ],
   "source": [
    "import subprocess\n",
    "\n",
    "vid = \"C:\\Projects\\Machine-Learning-UCT513\\Mashup_package/video.webm\"\n",
    "out_path = \"C:\\Projects\\Machine-Learning-UCT513\\Mashup_package/21 Savage & Metro Boomin - Glock In My Lap (Official Music Video).mp3\"\n",
    "subprocess.run(['ffmpeg', '-i', vid, out_path], check=True)"
   ]
  },
  {
   "cell_type": "code",
   "execution_count": 49,
   "metadata": {},
   "outputs": [
    {
     "name": "stdout",
     "output_type": "stream",
     "text": [
      "Collecting pydubNote: you may need to restart the kernel to use updated packages.\n",
      "\n",
      "  Downloading pydub-0.25.1-py2.py3-none-any.whl.metadata (1.4 kB)\n",
      "Downloading pydub-0.25.1-py2.py3-none-any.whl (32 kB)\n",
      "Installing collected packages: pydub\n",
      "Successfully installed pydub-0.25.1\n"
     ]
    },
    {
     "name": "stderr",
     "output_type": "stream",
     "text": [
      "\n",
      "[notice] A new release of pip is available: 24.1.1 -> 24.2\n",
      "[notice] To update, run: python.exe -m pip install --upgrade pip\n"
     ]
    }
   ],
   "source": [
    "%pip install pydub"
   ]
  },
  {
   "cell_type": "code",
   "execution_count": 54,
   "metadata": {},
   "outputs": [
    {
     "data": {
      "text/plain": [
       "<_io.BufferedRandom name='cropped_audio2.mp3'>"
      ]
     },
     "execution_count": 54,
     "metadata": {},
     "output_type": "execute_result"
    }
   ],
   "source": [
    "from pydub import AudioSegment\n",
    "\n",
    "# Load the audio file\n",
    "audio = AudioSegment.from_file(\"C:\\Projects\\Machine-Learning-UCT513\\Mashup_package/21 Savage & Metro Boomin - Glock In My Lap (Official Music Video).mp3\")\n",
    "\n",
    "# Define start and end times in milliseconds\n",
    "start_time = 30000 # Start time (30 seconds)\n",
    "end_time = 60000   # End time (60 seconds)\n",
    "\n",
    "# Crop the audio\n",
    "cropped_audio = audio[start_time:end_time]\n",
    "\n",
    "# Export the cropped audio\n",
    "cropped_audio.export(\"cropped_audio2.mp3\", format=\"mp3\")\n"
   ]
  },
  {
   "cell_type": "code",
   "execution_count": 52,
   "metadata": {},
   "outputs": [
    {
     "name": "stdout",
     "output_type": "stream",
     "text": [
      "<pydub.audio_segment.AudioSegment object at 0x0000026E05981DB0>\n"
     ]
    }
   ],
   "source": [
    "print(cropped_audio)"
   ]
  },
  {
   "cell_type": "code",
   "execution_count": 55,
   "metadata": {},
   "outputs": [
    {
     "data": {
      "text/plain": [
       "<_io.BufferedRandom name='combined_audio.mp3'>"
      ]
     },
     "execution_count": 55,
     "metadata": {},
     "output_type": "execute_result"
    }
   ],
   "source": [
    "from pydub import AudioSegment\n",
    "\n",
    "# Define paths to the audio files you want to combine\n",
    "audio_files = ['C:\\Projects\\Machine-Learning-UCT513\\Mashup_package\\cropped_audio.mp3', 'C:\\Projects\\Machine-Learning-UCT513\\Mashup_package\\cropped_audio2.mp3']\n",
    "\n",
    "# Load the first audio file\n",
    "combined_audio = AudioSegment.from_file(audio_files[0])\n",
    "\n",
    "# Append the rest of the audio files\n",
    "for file in audio_files[1:]:\n",
    "    audio = AudioSegment.from_file(file)\n",
    "    combined_audio += audio\n",
    "\n",
    "# Export the combined audio\n",
    "combined_audio.export('combined_audio.mp3', format='mp3')\n"
   ]
  },
  {
   "cell_type": "markdown",
   "metadata": {},
   "source": [
    "## debug"
   ]
  },
  {
   "cell_type": "code",
   "execution_count": 1,
   "metadata": {},
   "outputs": [],
   "source": [
    "import yt_dlp\n",
    "from youtubesearchpython import Search\n",
    "from datetime import datetime\n",
    "import os\n",
    "import subprocess\n",
    "import pydub\n",
    "from pydub import AudioSegment\n",
    "import random\n"
   ]
  },
  {
   "cell_type": "code",
   "execution_count": 2,
   "metadata": {},
   "outputs": [],
   "source": [
    "def download(video_url,path):\n",
    "\n",
    "    path_to_vid = os.path.join(path,'%(title)s.%(ext)s')\n",
    "\n",
    "\n",
    "    ydl_opts = {'format' : 'mp4',\n",
    "                'outtmpl': path_to_vid}\n",
    "\n",
    "    with yt_dlp.YoutubeDL(ydl_opts) as ydl:\n",
    "        ydl.download([video_url])\n",
    "    \n",
    "    return path_to_vid\n",
    "\n"
   ]
  },
  {
   "cell_type": "code",
   "execution_count": 3,
   "metadata": {},
   "outputs": [],
   "source": [
    "def find_link(query,lim,num):\n",
    "    allsearch = Search(query, limit =lim)\n",
    "    result = allsearch.result()\n",
    "    links = []\n",
    "    for i in range(num):\n",
    "        links.append(result['result'][i]['link'])\n",
    "\n",
    "    return links\n",
    "\n"
   ]
  },
  {
   "cell_type": "code",
   "execution_count": 4,
   "metadata": {},
   "outputs": [],
   "source": [
    "def download_all(query, no_of_vids,path,num):\n",
    "    links = find_link(query,no_of_vids,num)\n",
    "\n",
    "    path = os.path.join(path,str(random.random()))\n",
    "    os.mkdir(path)\n",
    "\n",
    "    for link in links:\n",
    "        download(link,path)\n",
    "    print(path)\n",
    "    return path\n",
    "\n"
   ]
  },
  {
   "cell_type": "code",
   "execution_count": 5,
   "metadata": {},
   "outputs": [
    {
     "name": "stdout",
     "output_type": "stream",
     "text": [
      "[youtube] Extracting URL: https://www.youtube.com/watch?v=LIG3Yl5pZ1Y\n",
      "[youtube] LIG3Yl5pZ1Y: Downloading webpage\n",
      "[youtube] LIG3Yl5pZ1Y: Downloading ios player API JSON\n",
      "[youtube] LIG3Yl5pZ1Y: Downloading web creator player API JSON\n",
      "[youtube] LIG3Yl5pZ1Y: Downloading m3u8 information\n",
      "[info] LIG3Yl5pZ1Y: Downloading 1 format(s): 18\n",
      "[download] Destination: C:\\Projects\\Machine-Learning-UCT513\\Mashup_package\\0.5712445240232841\\Bhul Jayi Na (Full Song) ｜ Sharry Maan ｜ Latest Punjabi Song 2017 ｜ Speed Records.mp4\n",
      "[download] 100% of    9.13MiB in 00:00:01 at 4.91MiB/s     \n",
      "[youtube] Extracting URL: https://www.youtube.com/watch?v=Kd57YHWqrsI\n",
      "[youtube] Kd57YHWqrsI: Downloading webpage\n",
      "[youtube] Kd57YHWqrsI: Downloading ios player API JSON\n",
      "[youtube] Kd57YHWqrsI: Downloading web creator player API JSON\n",
      "[youtube] Kd57YHWqrsI: Downloading m3u8 information\n",
      "[info] Kd57YHWqrsI: Downloading 1 format(s): 18\n",
      "[download] Destination: C:\\Projects\\Machine-Learning-UCT513\\Mashup_package\\0.5712445240232841\\Hostel Sharry Mann Video Song ｜ Parmish Verma ｜ Mista Baaz ｜ New Punjabi Song 2017 ｜ Punjabi Song.mp4\n",
      "[download] 100% of   22.30MiB in 00:00:03 at 6.03MiB/s     \n",
      "C:\\Projects\\Machine-Learning-UCT513\\Mashup_package\\0.5712445240232841\n",
      "C:\\Projects\\Machine-Learning-UCT513\\Mashup_package\\0.5712445240232841\n",
      "\n",
      "\n",
      "\n",
      "\n",
      "out: C:\\Projects\\Machine-Learning-UCT513\\Mashup_package\\0.57124452402\\Bhul Jayi Na (Full Song) ｜ Sharry Maan ｜ Latest Punjabi Song 2017 ｜ Speed Records.mp4\n"
     ]
    },
    {
     "ename": "CalledProcessError",
     "evalue": "Command '['ffmpeg', '-i', 'C:\\\\Projects\\\\Machine-Learning-UCT513\\\\Mashup_package\\\\0.57124452402\\\\Bhul Jayi Na (Full Song) ｜ Sharry Maan ｜ Latest Punjabi Song 2017 ｜ Speed Records.mp4', 'C:\\\\Projects\\\\Machine-Learning-UCT513\\\\Mashup_package\\\\audio\\\\0.mp3']' returned non-zero exit status 4294967294.",
     "output_type": "error",
     "traceback": [
      "\u001b[1;31m---------------------------------------------------------------------------\u001b[0m",
      "\u001b[1;31mCalledProcessError\u001b[0m                        Traceback (most recent call last)",
      "Cell \u001b[1;32mIn[5], line 33\u001b[0m\n\u001b[0;32m     29\u001b[0m         combined_audio \u001b[38;5;241m+\u001b[39m\u001b[38;5;241m=\u001b[39m audio\n\u001b[0;32m     31\u001b[0m     combined_audio\u001b[38;5;241m.\u001b[39mexport(out_path, \u001b[38;5;28mformat\u001b[39m\u001b[38;5;241m=\u001b[39m\u001b[38;5;124m'\u001b[39m\u001b[38;5;124mmp3\u001b[39m\u001b[38;5;124m'\u001b[39m)\n\u001b[1;32m---> 33\u001b[0m \u001b[43mmashup\u001b[49m\u001b[43m(\u001b[49m\u001b[38;5;124;43m\"\u001b[39;49m\u001b[38;5;124;43mSherry Maan\u001b[39;49m\u001b[38;5;124;43m\"\u001b[39;49m\u001b[43m,\u001b[49m\u001b[38;5;241;43m2\u001b[39;49m\u001b[43m,\u001b[49m\u001b[38;5;241;43m10\u001b[39;49m\u001b[43m,\u001b[49m\u001b[38;5;124;43m\"\u001b[39;49m\u001b[38;5;124;43mC:\u001b[39;49m\u001b[38;5;124;43m\\\u001b[39;49m\u001b[38;5;124;43mProjects\u001b[39;49m\u001b[38;5;124;43m\\\u001b[39;49m\u001b[38;5;124;43mMachine-Learning-UCT513\u001b[39;49m\u001b[38;5;124;43m\\\u001b[39;49m\u001b[38;5;124;43mMashup_package\u001b[39;49m\u001b[38;5;124;43m\"\u001b[39;49m\u001b[43m)\u001b[49m\n",
      "Cell \u001b[1;32mIn[5], line 13\u001b[0m, in \u001b[0;36mmashup\u001b[1;34m(query, no_of_videos, duration, out_path)\u001b[0m\n\u001b[0;32m     11\u001b[0m     \u001b[38;5;66;03m# vid = \"C:\\Projects\\Machine-Learning-UCT513\\Mashup_package/video.webm\"\u001b[39;00m\n\u001b[0;32m     12\u001b[0m     out_path \u001b[38;5;241m=\u001b[39m os\u001b[38;5;241m.\u001b[39mpath\u001b[38;5;241m.\u001b[39mjoin(path_to_audios,\u001b[38;5;28mstr\u001b[39m(i)\u001b[38;5;241m+\u001b[39m\u001b[38;5;124m\"\u001b[39m\u001b[38;5;124m.mp3\u001b[39m\u001b[38;5;124m\"\u001b[39m)\n\u001b[1;32m---> 13\u001b[0m     \u001b[43msubprocess\u001b[49m\u001b[38;5;241;43m.\u001b[39;49m\u001b[43mrun\u001b[49m\u001b[43m(\u001b[49m\u001b[43m[\u001b[49m\u001b[38;5;124;43m'\u001b[39;49m\u001b[38;5;124;43mffmpeg\u001b[39;49m\u001b[38;5;124;43m'\u001b[39;49m\u001b[43m,\u001b[49m\u001b[43m \u001b[49m\u001b[38;5;124;43m'\u001b[39;49m\u001b[38;5;124;43m-i\u001b[39;49m\u001b[38;5;124;43m'\u001b[39;49m\u001b[43m,\u001b[49m\u001b[43m \u001b[49m\u001b[43mpath_to_video\u001b[49m\u001b[43m,\u001b[49m\u001b[43m \u001b[49m\u001b[43mout_path\u001b[49m\u001b[43m]\u001b[49m\u001b[43m,\u001b[49m\u001b[43m \u001b[49m\u001b[43mcheck\u001b[49m\u001b[38;5;241;43m=\u001b[39;49m\u001b[38;5;28;43;01mTrue\u001b[39;49;00m\u001b[43m)\u001b[49m\n\u001b[0;32m     14\u001b[0m     i\u001b[38;5;241m+\u001b[39m\u001b[38;5;241m=\u001b[39m\u001b[38;5;241m1\u001b[39m\n\u001b[0;32m     16\u001b[0m audios \u001b[38;5;241m=\u001b[39m []\n",
      "File \u001b[1;32mc:\\Users\\arpit\\AppData\\Local\\Programs\\Python\\Python310\\lib\\subprocess.py:524\u001b[0m, in \u001b[0;36mrun\u001b[1;34m(input, capture_output, timeout, check, *popenargs, **kwargs)\u001b[0m\n\u001b[0;32m    522\u001b[0m     retcode \u001b[38;5;241m=\u001b[39m process\u001b[38;5;241m.\u001b[39mpoll()\n\u001b[0;32m    523\u001b[0m     \u001b[38;5;28;01mif\u001b[39;00m check \u001b[38;5;129;01mand\u001b[39;00m retcode:\n\u001b[1;32m--> 524\u001b[0m         \u001b[38;5;28;01mraise\u001b[39;00m CalledProcessError(retcode, process\u001b[38;5;241m.\u001b[39margs,\n\u001b[0;32m    525\u001b[0m                                  output\u001b[38;5;241m=\u001b[39mstdout, stderr\u001b[38;5;241m=\u001b[39mstderr)\n\u001b[0;32m    526\u001b[0m \u001b[38;5;28;01mreturn\u001b[39;00m CompletedProcess(process\u001b[38;5;241m.\u001b[39margs, retcode, stdout, stderr)\n",
      "\u001b[1;31mCalledProcessError\u001b[0m: Command '['ffmpeg', '-i', 'C:\\\\Projects\\\\Machine-Learning-UCT513\\\\Mashup_package\\\\0.57124452402\\\\Bhul Jayi Na (Full Song) ｜ Sharry Maan ｜ Latest Punjabi Song 2017 ｜ Speed Records.mp4', 'C:\\\\Projects\\\\Machine-Learning-UCT513\\\\Mashup_package\\\\audio\\\\0.mp3']' returned non-zero exit status 4294967294."
     ]
    }
   ],
   "source": [
    "def mashup(query,no_of_videos,duration,out_path):\n",
    "    path_to_videos = download_all(query,no_of_videos,out_path,no_of_videos)\n",
    "    print(path_to_videos)\n",
    "    duration_for_each = int(duration/no_of_videos)\n",
    "    path_to_audios = os.path.join(out_path,\"audio\")\n",
    "    os.mkdir(path_to_audios)\n",
    "    i = 0\n",
    "    for vid in os.listdir(path_to_videos):\n",
    "        path_to_video = os.path.join(path_to_videos[0:-5],vid)\n",
    "        print(\"\\n\\n\\n\\nout:\",path_to_video)\n",
    "        # vid = \"C:\\Projects\\Machine-Learning-UCT513\\Mashup_package/video.webm\"\n",
    "        out_path = os.path.join(path_to_audios,str(i)+\".mp3\")\n",
    "        subprocess.run(['ffmpeg', '-i', path_to_video, out_path], check=True)\n",
    "        i+=1\n",
    "        \n",
    "    audios = []\n",
    "    for audio in os.listdir(path_to_audios):\n",
    "        print(\"\\n\\n\\n creating crop audios\")\n",
    "        path_to_audio = os.path.join(path_to_audios,audio)\n",
    "        current_song = AudioSegment.from_file(path_to_audio)\n",
    "        start_time = 0 # Start time (30 seconds)\n",
    "        end_time = duration_for_each*1000   # End time (60 seconds)\n",
    "        cropped_audio = audio[start_time:end_time]\n",
    "        cropped_audio.export(path_to_audio, format=\"mp3\")\n",
    "        audios.append(path_to_audio)\n",
    "    combined_audio = AudioSegment.from_file(audios[0])\n",
    "    for file in audios[1:]:\n",
    "        audio = AudioSegment.from_file(file)\n",
    "        combined_audio += audio\n",
    "        \n",
    "    combined_audio.export(out_path, format='mp3')\n",
    "    \n",
    "mashup(\"Sherry Maan\",2,10,\"C:\\Projects\\Machine-Learning-UCT513\\Mashup_package\")"
   ]
  }
 ],
 "metadata": {
  "kernelspec": {
   "display_name": "Python 3",
   "language": "python",
   "name": "python3"
  },
  "language_info": {
   "codemirror_mode": {
    "name": "ipython",
    "version": 3
   },
   "file_extension": ".py",
   "mimetype": "text/x-python",
   "name": "python",
   "nbconvert_exporter": "python",
   "pygments_lexer": "ipython3",
   "version": "3.10.7"
  }
 },
 "nbformat": 4,
 "nbformat_minor": 2
}
